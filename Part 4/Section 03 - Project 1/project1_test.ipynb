{
 "cells": [
  {
   "cell_type": "code",
   "execution_count": 19,
   "metadata": {},
   "outputs": [],
   "source": [
    "import itertools\n",
    "import numbers\n",
    "from datetime import timedelta, datetime\n",
    "from collections import namedtuple\n",
    "\n",
    "        \n",
    "Confirmation = namedtuple('Confirmation', 'account_number, transaction_code, transaction_id, time_utc, time')\n",
    "\n",
    "\n",
    "class Account:\n",
    "\n",
    "    transaction_counter = itertools.count(100)\n",
    "    _interest_rate: float = 0.5\n",
    "    _transaction_codes = {\n",
    "        'deposit': 'D',\n",
    "        'withdraw': 'W',\n",
    "        'interest': 'I',\n",
    "        'rejected': 'X'\n",
    "    }\n",
    "\n",
    "    def __init__(self, account_number: int, first_name: str, last_name: str,\n",
    "                timezone=None,  initial_balance: float = 0):\n",
    "        self._account_number = account_number\n",
    "        self.first_name = first_name\n",
    "        self.last_name = last_name\n",
    "        if timezone is None:\n",
    "            timezone = TimeZone('UTC', 0, 0)\n",
    "        self.timezone = timezone\n",
    "        self._balance = Account.validate_real_number(initial_balance, 0)\n",
    "\n",
    "\n",
    "    @property\n",
    "    def account_number(self):\n",
    "        return self._account_number\n",
    "    \n",
    "    @property\n",
    "    def first_name(self):\n",
    "        return self._first_name\n",
    "    \n",
    "    @first_name.setter\n",
    "    def first_name(self, value):\n",
    "        self._first_name = self.validate_name(value, \"First name\")\n",
    "\n",
    "    @property\n",
    "    def last_name(self):\n",
    "        return self._last_name\n",
    "    \n",
    "    @last_name.setter\n",
    "    def last_name(self, value):\n",
    "        self._last_name = self.validate_name(value, \"Last name\")\n",
    "\n",
    "    @property\n",
    "    def full_name(self):\n",
    "        return f\"{self.first_name} {self.last_name}\"\n",
    "    \n",
    "    @property\n",
    "    def balance(self):\n",
    "        return self._balance\n",
    "    \n",
    "    @property\n",
    "    def timezone(self):\n",
    "        return self._timezone\n",
    "    \n",
    "    @timezone.setter\n",
    "    def timezone(self, value):\n",
    "        if not isinstance(value, TimeZone):\n",
    "            raise ValueError(\"Timezone must be a valid TimeZone object\")\n",
    "        self._timezone = value\n",
    "\n",
    "    @classmethod\n",
    "    def get_interest_rate(cls):\n",
    "        return cls._interest_rate\n",
    "    \n",
    "    @classmethod\n",
    "    def set_interest_rate(cls, value):\n",
    "        if not isinstance(value, numbers.Real):\n",
    "            raise ValueError(\"Interest rate must be a real number\")\n",
    "        if value < 0:\n",
    "            raise ValueError(\"Interest rate cannot be negative\")\n",
    "        cls._interest_rate = value\n",
    "\n",
    "    def deposit(self, value: float) -> Confirmation:\n",
    "        Account.validate_real_number(value, 0.01)\n",
    "        transaction_code = Account._transaction_codes['deposit']\n",
    "        conf_code = self.generate_confirmation_code(transaction_code)\n",
    "        self._balance += value\n",
    "        return conf_code\n",
    "    \n",
    "    def withdraw(self, value: float) -> Confirmation:\n",
    "        accepted = False\n",
    "        Account.validate_real_number(value, 0.01)\n",
    "        if self.balance - value < 0:\n",
    "            transaction_code = Account._transaction_codes['rejected']\n",
    "        else:\n",
    "            transaction_code = Account._transaction_codes['withdraw']\n",
    "            accepted = True\n",
    "        conf_code = self.generate_confirmation_code(transaction_code)\n",
    "        if accepted:\n",
    "            self._balance -= value\n",
    "        return conf_code\n",
    "    \n",
    "    def pay_interest(self) -> Confirmation:\n",
    "        interest = self.balance * Account.get_interest_rate() / 100\n",
    "        conf_code = self.generate_confirmation_code(Account._transaction_codes['interest'])\n",
    "        self._balance += interest\n",
    "        return conf_code\n",
    "    \n",
    "    @staticmethod\n",
    "    def validate_real_number(value, min_value=None):\n",
    "        if not isinstance(value, numbers.Real):\n",
    "            raise ValueError(\"Value must be a real number\")\n",
    "        if min_value is not None and value < min_value:\n",
    "            raise ValueError(f\"Value must be at least {min_value}\")\n",
    "        return value\n",
    "        \n",
    "    @staticmethod\n",
    "    def validate_name(value, field_title):\n",
    "        if not isinstance(value, str):\n",
    "            raise TypeError(f\"{field_title} must be a string\")\n",
    "        if len(value.strip()) == 0:\n",
    "            raise ValueError(f\"{field_title} cannot be empty\")\n",
    "        return value.strip()\n",
    "    \n",
    "    def generate_confirmation_code(self, transaction_code: str):\n",
    "        dt_str = datetime.utcnow().strftime(\"%Y%m%d%H%M%S\")\n",
    "        return f\"{transaction_code}-{self.account_number}-{dt_str}-{next(Account.transaction_counter)}\"\n",
    "    \n",
    "    @staticmethod\n",
    "    def parse_confirmation_code(confirmation_code: str, preferred_time_zone = None):\n",
    "        parts = confirmation_code.split('-')\n",
    "        if len(parts) != 4:\n",
    "            raise ValueError(\"Invalid confirmation code\")\n",
    "        transaction_code, account_number, raw_dt_utc, transaction_id = parts\n",
    "        try:\n",
    "            dt_utc = datetime.strptime(raw_dt_utc, \"%Y%m%d%H%M%S\")\n",
    "        except ValueError as ex:\n",
    "            raise ValueError(\"Invalid transaction datetime\") from ex\n",
    "        if preferred_time_zone is None:\n",
    "            preferred_time_zone = TimeZone('UTC', 0, 0)\n",
    "        if not isinstance(preferred_time_zone, TimeZone):\n",
    "            raise ValueError(\"Invalid TimeZone specified\")\n",
    "        dt_preferred = dt_utc + preferred_time_zone.offset\n",
    "        dt_preferred_str = f\"{dt_preferred.isoformat()} ({preferred_time_zone.name})\"\n",
    "        return Confirmation(account_number, transaction_code, transaction_id, dt_utc.isoformat(), dt_preferred_str)\n",
    "\n",
    "\n",
    "class TimeZone:\n",
    "    def __init__(self, name, offset_hours, offset_minutes):\n",
    "        if name is None or len(str(name).strip()) == 0:\n",
    "            raise ValueError('Timezone name cannot be empty.')\n",
    "            \n",
    "        self._name = str(name).strip()\n",
    "        \n",
    "        if not isinstance(offset_hours, numbers.Integral):\n",
    "            raise ValueError('Hour offset must be an integer.')\n",
    "        \n",
    "        if not isinstance(offset_minutes, numbers.Integral):\n",
    "            raise ValueError('Minutes offset must be an integer.')\n",
    "            \n",
    "        if offset_minutes < -59 or offset_minutes > 59:\n",
    "            raise ValueError('Minutes offset must between -59 and 59 (inclusive).')\n",
    "            \n",
    "        # for time delta sign of minutes will be set to sign of hours\n",
    "        offset = timedelta(hours=offset_hours, minutes=offset_minutes)\n",
    "\n",
    "        # offsets are technically bounded between -12:00 and 14:00\n",
    "        # see: https://en.wikipedia.org/wiki/List_of_UTC_time_offsets\n",
    "        if offset < timedelta(hours=-12, minutes=0) or offset > timedelta(hours=14, minutes=0):\n",
    "            raise ValueError('Offset must be between -12:00 and +14:00.')\n",
    "            \n",
    "        self._offset_hours = offset_hours\n",
    "        self._offset_minutes = offset_minutes\n",
    "        self._offset = offset\n",
    "        \n",
    "    @property\n",
    "    def offset(self):\n",
    "        return self._offset\n",
    "    \n",
    "    @property\n",
    "    def name(self):\n",
    "        return self._name\n",
    "    \n",
    "    def __eq__(self, other):\n",
    "        return (isinstance(other, TimeZone) and \n",
    "                self.name == other.name and \n",
    "                self._offset_hours == other._offset_hours and\n",
    "                self._offset_minutes == other._offset_minutes)\n",
    "    def __repr__(self):\n",
    "        return (f\"TimeZone(name='{self.name}', \"\n",
    "                f\"offset_hours={self._offset_hours}, \"\n",
    "                f\"offset_minutes={self._offset_minutes})\")"
   ]
  },
  {
   "cell_type": "code",
   "execution_count": 22,
   "metadata": {},
   "outputs": [
    {
     "ename": "ValueError",
     "evalue": "Value must be at least 0",
     "output_type": "error",
     "traceback": [
      "\u001b[1;31m---------------------------------------------------------------------------\u001b[0m",
      "\u001b[1;31mValueError\u001b[0m                                Traceback (most recent call last)",
      "\u001b[1;32manhailing\\python-deepdive\\Part 4\\Section 03 - Project 1\\project1_test.ipynb Cell 2\u001b[0m line \u001b[0;36m1\n\u001b[1;32m----> <a href='vscode-notebook-cell://github%2B7b2276223a312c22726566223a7b2274797065223a342c226964223a22657865227d7d/anhailing/python-deepdive/Part%204/Section%2003%20-%20Project%201/project1_test.ipynb#X12sdnNjb2RlLXZmcw%3D%3D?line=0'>1</a>\u001b[0m a \u001b[39m=\u001b[39m Account(\u001b[39m'\u001b[39;49m\u001b[39m123\u001b[39;49m\u001b[39m'\u001b[39;49m, \u001b[39m'\u001b[39;49m\u001b[39mJohn\u001b[39;49m\u001b[39m'\u001b[39;49m, \u001b[39m'\u001b[39;49m\u001b[39mSmith\u001b[39;49m\u001b[39m'\u001b[39;49m, initial_balance\u001b[39m=\u001b[39;49m\u001b[39m-\u001b[39;49m\u001b[39m1\u001b[39;49m)\n",
      "\u001b[1;32manhailing\\python-deepdive\\Part 4\\Section 03 - Project 1\\project1_test.ipynb Cell 2\u001b[0m line \u001b[0;36m2\n\u001b[0;32m     <a href='vscode-notebook-cell://github%2B7b2276223a312c22726566223a7b2274797065223a342c226964223a22657865227d7d/anhailing/python-deepdive/Part%204/Section%2003%20-%20Project%201/project1_test.ipynb#X12sdnNjb2RlLXZmcw%3D%3D?line=26'>27</a>\u001b[0m     timezone \u001b[39m=\u001b[39m TimeZone(\u001b[39m'\u001b[39m\u001b[39mUTC\u001b[39m\u001b[39m'\u001b[39m, \u001b[39m0\u001b[39m, \u001b[39m0\u001b[39m)\n\u001b[0;32m     <a href='vscode-notebook-cell://github%2B7b2276223a312c22726566223a7b2274797065223a342c226964223a22657865227d7d/anhailing/python-deepdive/Part%204/Section%2003%20-%20Project%201/project1_test.ipynb#X12sdnNjb2RlLXZmcw%3D%3D?line=27'>28</a>\u001b[0m \u001b[39mself\u001b[39m\u001b[39m.\u001b[39mtimezone \u001b[39m=\u001b[39m timezone\n\u001b[1;32m---> <a href='vscode-notebook-cell://github%2B7b2276223a312c22726566223a7b2274797065223a342c226964223a22657865227d7d/anhailing/python-deepdive/Part%204/Section%2003%20-%20Project%201/project1_test.ipynb#X12sdnNjb2RlLXZmcw%3D%3D?line=28'>29</a>\u001b[0m \u001b[39mself\u001b[39m\u001b[39m.\u001b[39m_balance \u001b[39m=\u001b[39m Account\u001b[39m.\u001b[39;49mvalidate_real_number(initial_balance, \u001b[39m0\u001b[39;49m)\n",
      "\u001b[1;32manhailing\\python-deepdive\\Part 4\\Section 03 - Project 1\\project1_test.ipynb Cell 2\u001b[0m line \u001b[0;36m1\n\u001b[0;32m    <a href='vscode-notebook-cell://github%2B7b2276223a312c22726566223a7b2274797065223a342c226964223a22657865227d7d/anhailing/python-deepdive/Part%204/Section%2003%20-%20Project%201/project1_test.ipynb#X12sdnNjb2RlLXZmcw%3D%3D?line=110'>111</a>\u001b[0m     \u001b[39mraise\u001b[39;00m \u001b[39mValueError\u001b[39;00m(\u001b[39m\"\u001b[39m\u001b[39mValue must be a real number\u001b[39m\u001b[39m\"\u001b[39m)\n\u001b[0;32m    <a href='vscode-notebook-cell://github%2B7b2276223a312c22726566223a7b2274797065223a342c226964223a22657865227d7d/anhailing/python-deepdive/Part%204/Section%2003%20-%20Project%201/project1_test.ipynb#X12sdnNjb2RlLXZmcw%3D%3D?line=111'>112</a>\u001b[0m \u001b[39mif\u001b[39;00m min_value \u001b[39mis\u001b[39;00m \u001b[39mnot\u001b[39;00m \u001b[39mNone\u001b[39;00m \u001b[39mand\u001b[39;00m value \u001b[39m<\u001b[39m min_value:\n\u001b[1;32m--> <a href='vscode-notebook-cell://github%2B7b2276223a312c22726566223a7b2274797065223a342c226964223a22657865227d7d/anhailing/python-deepdive/Part%204/Section%2003%20-%20Project%201/project1_test.ipynb#X12sdnNjb2RlLXZmcw%3D%3D?line=112'>113</a>\u001b[0m     \u001b[39mraise\u001b[39;00m \u001b[39mValueError\u001b[39;00m(\u001b[39mf\u001b[39m\u001b[39m\"\u001b[39m\u001b[39mValue must be at least \u001b[39m\u001b[39m{\u001b[39;00mmin_value\u001b[39m}\u001b[39;00m\u001b[39m\"\u001b[39m)\n\u001b[0;32m    <a href='vscode-notebook-cell://github%2B7b2276223a312c22726566223a7b2274797065223a342c226964223a22657865227d7d/anhailing/python-deepdive/Part%204/Section%2003%20-%20Project%201/project1_test.ipynb#X12sdnNjb2RlLXZmcw%3D%3D?line=113'>114</a>\u001b[0m \u001b[39mreturn\u001b[39;00m value\n",
      "\u001b[1;31mValueError\u001b[0m: Value must be at least 0"
     ]
    }
   ],
   "source": [
    "a = Account('123', 'John', 'Smith', initial_balance=-1)"
   ]
  },
  {
   "cell_type": "code",
   "execution_count": 21,
   "metadata": {},
   "outputs": [
    {
     "data": {
      "text/plain": [
       "0"
      ]
     },
     "execution_count": 21,
     "metadata": {},
     "output_type": "execute_result"
    }
   ],
   "source": [
    "a.balance"
   ]
  },
  {
   "cell_type": "code",
   "execution_count": 17,
   "metadata": {},
   "outputs": [
    {
     "data": {
      "text/plain": [
       "'D-123-20230917154514-100'"
      ]
     },
     "execution_count": 17,
     "metadata": {},
     "output_type": "execute_result"
    }
   ],
   "source": [
    "a.deposit(0.01)"
   ]
  },
  {
   "cell_type": "code",
   "execution_count": 18,
   "metadata": {},
   "outputs": [
    {
     "data": {
      "text/plain": [
       "'X-123-20230917154517-101'"
      ]
     },
     "execution_count": 18,
     "metadata": {},
     "output_type": "execute_result"
    }
   ],
   "source": [
    "a.withdraw(60)"
   ]
  },
  {
   "cell_type": "code",
   "execution_count": 8,
   "metadata": {},
   "outputs": [
    {
     "data": {
      "text/plain": [
       "'dummy-123-20230916173842-100'"
      ]
     },
     "execution_count": 8,
     "metadata": {},
     "output_type": "execute_result"
    }
   ],
   "source": [
    "a.make_transaction()"
   ]
  },
  {
   "cell_type": "code",
   "execution_count": 9,
   "metadata": {},
   "outputs": [
    {
     "data": {
      "text/plain": [
       "Confirmation(account_number='123', transaction_code='D', transaction_id='100', time_utc='2021-09-09T12:34:56', time='2021-09-09T12:34:56 (UTC)')"
      ]
     },
     "execution_count": 9,
     "metadata": {},
     "output_type": "execute_result"
    }
   ],
   "source": [
    "a.parse_confirmation_code('D-123-20210909123456-100')"
   ]
  },
  {
   "cell_type": "code",
   "execution_count": null,
   "metadata": {},
   "outputs": [],
   "source": []
  }
 ],
 "metadata": {
  "kernelspec": {
   "display_name": "core",
   "language": "python",
   "name": "python3"
  },
  "language_info": {
   "codemirror_mode": {
    "name": "ipython",
    "version": 3
   },
   "file_extension": ".py",
   "mimetype": "text/x-python",
   "name": "python",
   "nbconvert_exporter": "python",
   "pygments_lexer": "ipython3",
   "version": "3.11.5"
  },
  "orig_nbformat": 4
 },
 "nbformat": 4,
 "nbformat_minor": 2
}
