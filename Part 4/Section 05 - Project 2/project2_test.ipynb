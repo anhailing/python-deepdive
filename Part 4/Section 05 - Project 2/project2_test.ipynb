{
 "cells": [
  {
   "cell_type": "code",
   "execution_count": 76,
   "metadata": {},
   "outputs": [],
   "source": [
    "from functools import total_ordering\n",
    "import operator\n",
    "\n",
    "@total_ordering\n",
    "class Mod:\n",
    "    def __init__(self, value, modulus):\n",
    "        if not isinstance(value, int):\n",
    "            raise TypeError('Value must be an integer')\n",
    "        if not isinstance(modulus, int):\n",
    "            raise TypeError('Modulus must be an integer')\n",
    "        if modulus <= 0:\n",
    "            raise ValueError('Modulus must be positive')\n",
    "        self._modulus = modulus\n",
    "        self._value = value % modulus\n",
    "\n",
    "    @property\n",
    "    def modulus(self):\n",
    "        return self._modulus\n",
    "    \n",
    "    @property\n",
    "    def value(self):\n",
    "        return self._value\n",
    "    \n",
    "    # TODO why this?\n",
    "    @value.setter  \n",
    "    def value(self, new_value):\n",
    "        self._value = new_value % self.modulus \n",
    "        \n",
    "    def __repr__(self):\n",
    "        return f'Mod({self._value}, {self._modulus})'\n",
    "    \n",
    "    def __int__(self):\n",
    "        return self.value\n",
    "    \n",
    "    def _get_value(self, other):\n",
    "        if isinstance(other, Mod) and self.modulus == other.modulus:\n",
    "            return other.value\n",
    "        if isinstance(other, int):\n",
    "            return other % self.modulus\n",
    "        return NotImplemented\n",
    "    \n",
    "    def _perform_operation(self, other, op):\n",
    "        other_value = self._get_value(other)\n",
    "        new_value = op(self.value, other_value)\n",
    "        return Mod(new_value, self.modulus)\n",
    "    \n",
    "    def __eq__(self, other):\n",
    "        other_value = self._get_value(other)\n",
    "        return self.value == other_value\n",
    "        \n",
    "    def __hash__(self):\n",
    "        return hash((self.value, self.modulus))\n",
    "\n",
    "    def __neg__(self):\n",
    "        return Mod(-self.value, self.modulus)\n",
    "    \n",
    "    def __add__(self, other):\n",
    "        return self._perform_operation(other, operator.add)\n",
    "    \n",
    "    def __sub__(self, other):\n",
    "        return self._perform_operation(other, operator.sub)\n",
    "    \n",
    "    def __mul__(self, other):\n",
    "        return self._perform_operation(other, operator.mul)\n",
    "    \n",
    "    def __pow__(self, other):\n",
    "        return self._perform_operation(other, operator.pow)\n",
    "        \n",
    "    def _iadd__(self, other):\n",
    "        return self + other\n",
    "    \n",
    "    def _isub__(self, other):\n",
    "        return self - other\n",
    "    \n",
    "    def _imul__(self, other):\n",
    "        return self * other\n",
    "    \n",
    "    def _ipow__(self, other):\n",
    "        return self ** other\n",
    "        \n",
    "    def __lt__(self, other):\n",
    "        other_value = self._get_value(other)\n",
    "        return self.value < other_value\n",
    "    "
   ]
  },
  {
   "cell_type": "code",
   "execution_count": 77,
   "metadata": {},
   "outputs": [],
   "source": [
    "a = Mod(14, 12)\n",
    "b = 27"
   ]
  },
  {
   "cell_type": "code",
   "execution_count": 78,
   "metadata": {},
   "outputs": [],
   "source": [
    "a += b"
   ]
  },
  {
   "cell_type": "code",
   "execution_count": 79,
   "metadata": {},
   "outputs": [
    {
     "data": {
      "text/plain": [
       "Mod(5, 12)"
      ]
     },
     "execution_count": 79,
     "metadata": {},
     "output_type": "execute_result"
    }
   ],
   "source": [
    "a"
   ]
  },
  {
   "cell_type": "code",
   "execution_count": 80,
   "metadata": {},
   "outputs": [
    {
     "data": {
      "text/plain": [
       "4"
      ]
     },
     "execution_count": 80,
     "metadata": {},
     "output_type": "execute_result"
    }
   ],
   "source": [
    "a.value = 16\n",
    "a.value"
   ]
  },
  {
   "cell_type": "code",
   "execution_count": 81,
   "metadata": {},
   "outputs": [
    {
     "data": {
      "text/plain": [
       "False"
      ]
     },
     "execution_count": 81,
     "metadata": {},
     "output_type": "execute_result"
    }
   ],
   "source": [
    "a == b"
   ]
  },
  {
   "cell_type": "code",
   "execution_count": 82,
   "metadata": {},
   "outputs": [
    {
     "data": {
      "text/plain": [
       "(Mod(4, 12), Mod(8, 12))"
      ]
     },
     "execution_count": 82,
     "metadata": {},
     "output_type": "execute_result"
    }
   ],
   "source": [
    "a, -a"
   ]
  },
  {
   "cell_type": "code",
   "execution_count": 83,
   "metadata": {},
   "outputs": [
    {
     "data": {
      "text/plain": [
       "Mod(0, 12)"
      ]
     },
     "execution_count": 83,
     "metadata": {},
     "output_type": "execute_result"
    }
   ],
   "source": [
    "a + -a"
   ]
  },
  {
   "cell_type": "code",
   "execution_count": 84,
   "metadata": {},
   "outputs": [],
   "source": [
    "a += 1"
   ]
  },
  {
   "cell_type": "code",
   "execution_count": 85,
   "metadata": {},
   "outputs": [
    {
     "data": {
      "text/plain": [
       "Mod(5, 12)"
      ]
     },
     "execution_count": 85,
     "metadata": {},
     "output_type": "execute_result"
    }
   ],
   "source": [
    "a"
   ]
  },
  {
   "cell_type": "code",
   "execution_count": 53,
   "metadata": {},
   "outputs": [
    {
     "data": {
      "text/plain": [
       "Mod(9, 12)"
      ]
     },
     "execution_count": 53,
     "metadata": {},
     "output_type": "execute_result"
    }
   ],
   "source": [
    "a**2"
   ]
  },
  {
   "cell_type": "code",
   "execution_count": 54,
   "metadata": {},
   "outputs": [
    {
     "data": {
      "text/plain": [
       "Mod(3, 12)"
      ]
     },
     "execution_count": 54,
     "metadata": {},
     "output_type": "execute_result"
    }
   ],
   "source": [
    "a**a"
   ]
  },
  {
   "cell_type": "code",
   "execution_count": 55,
   "metadata": {},
   "outputs": [],
   "source": [
    "a -= 3"
   ]
  },
  {
   "cell_type": "code",
   "execution_count": 56,
   "metadata": {},
   "outputs": [
    {
     "data": {
      "text/plain": [
       "Mod(0, 12)"
      ]
     },
     "execution_count": 56,
     "metadata": {},
     "output_type": "execute_result"
    }
   ],
   "source": [
    "a"
   ]
  },
  {
   "cell_type": "code",
   "execution_count": 57,
   "metadata": {},
   "outputs": [
    {
     "data": {
      "text/plain": [
       "True"
      ]
     },
     "execution_count": 57,
     "metadata": {},
     "output_type": "execute_result"
    }
   ],
   "source": [
    "a <=1"
   ]
  },
  {
   "cell_type": "code",
   "execution_count": null,
   "metadata": {},
   "outputs": [],
   "source": []
  }
 ],
 "metadata": {
  "kernelspec": {
   "display_name": "core",
   "language": "python",
   "name": "python3"
  },
  "language_info": {
   "codemirror_mode": {
    "name": "ipython",
    "version": 3
   },
   "file_extension": ".py",
   "mimetype": "text/x-python",
   "name": "python",
   "nbconvert_exporter": "python",
   "pygments_lexer": "ipython3",
   "version": "3.11.5"
  },
  "orig_nbformat": 4
 },
 "nbformat": 4,
 "nbformat_minor": 2
}
